{
 "cells": [
  {
   "cell_type": "markdown",
   "metadata": {},
   "source": [
    "1. Import the necessary libraries"
   ]
  },
  {
   "cell_type": "code",
   "execution_count": null,
   "metadata": {
    "vscode": {
     "languageId": "plaintext"
    }
   },
   "outputs": [],
   "source": [
    "import numpy as np\n",
    "import pandas as pd\n",
    "\n",
    "# package to extract data from various Internet sources into a DataFrame\n",
    "import pandas_datareader.data as web\n",
    "\n",
    "# package for dates\n",
    "import datetime as dt"
   ]
  },
  {
   "cell_type": "markdown",
   "metadata": {},
   "source": [
    "2. Create your time range (start and end variables). The start date should be 01/01/2015 and the end should today (whatever your today is)."
   ]
  },
  {
   "cell_type": "code",
   "execution_count": null,
   "metadata": {
    "vscode": {
     "languageId": "plaintext"
    }
   },
   "outputs": [],
   "source": [
    "datetime.datetime(2015, 1, 1, 0, 0)"
   ]
  },
  {
   "cell_type": "markdown",
   "metadata": {},
   "source": [
    "3. Get an API key for one of the APIs that are supported by Pandas Datareader, preferably for AlphaVantage.\n",
    "If you do not have an API key for any of the supported APIs, it is easiest to get one for AlphaVantage. (Note that the API key is shown directly after the signup. You do not receive it via e-mail.)"
   ]
  },
  {
   "cell_type": "code",
   "execution_count": null,
   "metadata": {
    "vscode": {
     "languageId": "plaintext"
    }
   },
   "outputs": [],
   "source": []
  },
  {
   "cell_type": "markdown",
   "metadata": {},
   "source": [
    "4. Use Pandas Datarader to read the daily time series for the Apple stock (ticker symbol AAPL) between 01/01/2015 and today, assign it to df_apple and print it."
   ]
  },
  {
   "cell_type": "code",
   "execution_count": null,
   "metadata": {
    "vscode": {
     "languageId": "plaintext"
    }
   },
   "outputs": [],
   "source": []
  },
  {
   "cell_type": "markdown",
   "metadata": {},
   "source": [
    "5. Add a new column \"stock\" to the dataframe and add the ticker symbol"
   ]
  },
  {
   "cell_type": "code",
   "execution_count": null,
   "metadata": {
    "vscode": {
     "languageId": "plaintext"
    }
   },
   "outputs": [],
   "source": []
  },
  {
   "cell_type": "markdown",
   "metadata": {},
   "source": [
    "6. Repeat the two previous steps for a few other stocks, always creating a new dataframe: Tesla, IBM and Microsoft. (Ticker symbols TSLA, IBM and MSFT.)"
   ]
  },
  {
   "cell_type": "code",
   "execution_count": null,
   "metadata": {
    "vscode": {
     "languageId": "plaintext"
    }
   },
   "outputs": [],
   "source": []
  },
  {
   "cell_type": "markdown",
   "metadata": {},
   "source": [
    "7. Combine the four separate dataFrames into one combined dataFrame df that holds the information for all four stocks"
   ]
  },
  {
   "cell_type": "code",
   "execution_count": null,
   "metadata": {
    "vscode": {
     "languageId": "plaintext"
    }
   },
   "outputs": [],
   "source": []
  },
  {
   "cell_type": "markdown",
   "metadata": {},
   "source": [
    "8. Shift the stock column into the index (making it a multi-level index consisting of the ticker symbol and the date)."
   ]
  },
  {
   "cell_type": "code",
   "execution_count": null,
   "metadata": {
    "vscode": {
     "languageId": "plaintext"
    }
   },
   "outputs": [],
   "source": []
  },
  {
   "cell_type": "markdown",
   "metadata": {},
   "source": [
    "7. Create a dataFrame called vol, with the volume values."
   ]
  },
  {
   "cell_type": "code",
   "execution_count": null,
   "metadata": {
    "vscode": {
     "languageId": "plaintext"
    }
   },
   "outputs": [],
   "source": []
  },
  {
   "cell_type": "markdown",
   "metadata": {},
   "source": [
    "8. Aggregate the data of volume to weekly."
   ]
  },
  {
   "cell_type": "code",
   "execution_count": null,
   "metadata": {
    "vscode": {
     "languageId": "plaintext"
    }
   },
   "outputs": [],
   "source": []
  },
  {
   "cell_type": "markdown",
   "metadata": {},
   "source": [
    "9. Find all the volume traded in the year of 2015"
   ]
  },
  {
   "cell_type": "code",
   "execution_count": null,
   "metadata": {
    "vscode": {
     "languageId": "plaintext"
    }
   },
   "outputs": [],
   "source": [
    "\n",
    "Getting Financial Data - Pandas Datareader\n",
    "Introduction:\n",
    "This time you will get data from a website.\n",
    "\n",
    "Step 1. Import the necessary libraries\n",
    "\n",
    "Step 2. Create your time range (start and end variables). The start date should be 01/01/2015 and the end should today (whatever your today is).\n",
    " \n",
    "datetime.datetime(2015, 1, 1, 0, 0)\n",
    "Step 3. Get an API key for one of the APIs that are supported by Pandas Datareader, preferably for AlphaVantage.\n",
    "If you do not have an API key for any of the supported APIs, it is easiest to get one for AlphaVantage. (Note that the API key is shown directly after the signup. You do not receive it via e-mail.)\n",
    "\n",
    "(For a full list of the APIs that are supported by Pandas Datareader, see here. As the APIs are provided by third parties, this list may change.)\n",
    "\n",
    "Step 4. Use Pandas Datarader to read the daily time series for the Apple stock (ticker symbol AAPL) between 01/01/2015 and today, assign it to df_apple and print it.\n",
    " \n",
    "open\thigh\tlow\tclose\tvolume\n",
    "2015-01-02\t111.3900\t111.4400\t107.350\t109.33\t53204626\n",
    "2015-01-05\t108.2900\t108.6500\t105.410\t106.25\t64285491\n",
    "2015-01-06\t106.5400\t107.4300\t104.630\t106.26\t65797116\n",
    "2015-01-07\t107.2000\t108.2000\t106.695\t107.75\t40105934\n",
    "2015-01-08\t109.2300\t112.1500\t108.700\t111.89\t59364547\n",
    "...\t...\t...\t...\t...\t...\n",
    "2020-08-24\t514.7900\t515.1400\t495.745\t503.43\t86484442\n",
    "2020-08-25\t498.7900\t500.7172\t492.210\t499.30\t52873947\n",
    "2020-08-26\t504.7165\t507.9700\t500.330\t506.09\t40755567\n",
    "2020-08-27\t508.5700\t509.9400\t495.330\t500.04\t38888096\n",
    "2020-08-28\t504.0500\t505.7700\t498.310\t499.23\t46907479\n",
    "1425 rows × 5 columns\n",
    "\n",
    "Step 5. Add a new column \"stock\" to the dataframe and add the ticker symbol\n",
    " \n",
    "open\thigh\tlow\tclose\tvolume\tstock\n",
    "2015-01-02\t111.3900\t111.4400\t107.350\t109.33\t53204626\tAAPL\n",
    "2015-01-05\t108.2900\t108.6500\t105.410\t106.25\t64285491\tAAPL\n",
    "2015-01-06\t106.5400\t107.4300\t104.630\t106.26\t65797116\tAAPL\n",
    "2015-01-07\t107.2000\t108.2000\t106.695\t107.75\t40105934\tAAPL\n",
    "2015-01-08\t109.2300\t112.1500\t108.700\t111.89\t59364547\tAAPL\n",
    "...\t...\t...\t...\t...\t...\t...\n",
    "2020-08-24\t514.7900\t515.1400\t495.745\t503.43\t86484442\tAAPL\n",
    "2020-08-25\t498.7900\t500.7172\t492.210\t499.30\t52873947\tAAPL\n",
    "2020-08-26\t504.7165\t507.9700\t500.330\t506.09\t40755567\tAAPL\n",
    "2020-08-27\t508.5700\t509.9400\t495.330\t500.04\t38888096\tAAPL\n",
    "2020-08-28\t504.0500\t505.7700\t498.310\t499.23\t46907479\tAAPL\n",
    "1425 rows × 6 columns\n",
    "\n",
    "Step 6. Repeat the two previous steps for a few other stocks, always creating a new dataframe: Tesla, IBM and Microsoft. (Ticker symbols TSLA, IBM and MSFT.)\n",
    " \n",
    "Step 7. Combine the four separate dataFrames into one combined dataFrame df that holds the information for all four stocks\n",
    " \n",
    "open\thigh\tlow\tclose\tvolume\tstock\n",
    "2015-01-02\t111.39\t111.440\t107.350\t109.33\t53204626\tAAPL\n",
    "2015-01-05\t108.29\t108.650\t105.410\t106.25\t64285491\tAAPL\n",
    "2015-01-06\t106.54\t107.430\t104.630\t106.26\t65797116\tAAPL\n",
    "2015-01-07\t107.20\t108.200\t106.695\t107.75\t40105934\tAAPL\n",
    "2015-01-08\t109.23\t112.150\t108.700\t111.89\t59364547\tAAPL\n",
    "...\t...\t...\t...\t...\t...\t...\n",
    "2020-08-24\t214.79\t215.520\t212.430\t213.69\t25460147\tMSFT\n",
    "2020-08-25\t213.10\t216.610\t213.100\t216.47\t23043696\tMSFT\n",
    "2020-08-26\t217.88\t222.090\t217.360\t221.15\t39600828\tMSFT\n",
    "2020-08-27\t222.89\t231.150\t219.400\t226.58\t57602195\tMSFT\n",
    "2020-08-28\t228.18\t230.644\t226.580\t228.91\t26292896\tMSFT\n",
    "5700 rows × 6 columns\n",
    "\n",
    "Step 8. Shift the stock column into the index (making it a multi-level index consisting of the ticker symbol and the date).\n",
    " \n",
    "open\thigh\tlow\tclose\tvolume\n",
    "stock\t\t\t\t\t\n",
    "2015-01-02\tAAPL\t111.39\t111.440\t107.350\t109.33\t53204626\n",
    "2015-01-05\tAAPL\t108.29\t108.650\t105.410\t106.25\t64285491\n",
    "2015-01-06\tAAPL\t106.54\t107.430\t104.630\t106.26\t65797116\n",
    "2015-01-07\tAAPL\t107.20\t108.200\t106.695\t107.75\t40105934\n",
    "2015-01-08\tAAPL\t109.23\t112.150\t108.700\t111.89\t59364547\n",
    "...\t...\t...\t...\t...\t...\t...\n",
    "2020-08-24\tMSFT\t214.79\t215.520\t212.430\t213.69\t25460147\n",
    "2020-08-25\tMSFT\t213.10\t216.610\t213.100\t216.47\t23043696\n",
    "2020-08-26\tMSFT\t217.88\t222.090\t217.360\t221.15\t39600828\n",
    "2020-08-27\tMSFT\t222.89\t231.150\t219.400\t226.58\t57602195\n",
    "2020-08-28\tMSFT\t228.18\t230.644\t226.580\t228.91\t26292896\n",
    "5700 rows × 5 columns\n",
    "\n",
    "Step 7. Create a dataFrame called vol, with the volume values.\n",
    " \n",
    "volume\n",
    "stock\t\n",
    "2015-01-02\tAAPL\t53204626\n",
    "2015-01-05\tAAPL\t64285491\n",
    "2015-01-06\tAAPL\t65797116\n",
    "2015-01-07\tAAPL\t40105934\n",
    "2015-01-08\tAAPL\t59364547\n",
    "...\t...\t...\n",
    "2020-08-24\tMSFT\t25460147\n",
    "2020-08-25\tMSFT\t23043696\n",
    "2020-08-26\tMSFT\t39600828\n",
    "2020-08-27\tMSFT\t57602195\n",
    "2020-08-28\tMSFT\t26292896\n",
    "5700 rows × 1 columns\n",
    "\n",
    "Step 8. Aggregate the data of volume to weekly.\n",
    "Hint: Be careful to not sum data from the same week of 2015 and other years.\n",
    "\n",
    " \n",
    "stock\tAAPL\tIBM\tMSFT\tTSLA\n",
    "year\tweek\t\t\t\t\n",
    "2015\t1\t53204626\t5525341\t27913852\t4764443\n",
    "2\t282868187\t24440360\t158596624\t22622034\n",
    "3\t304226647\t23272056\t157088136\t30799137\n",
    "4\t198737041\t31230797\t137352632\t16215501\n",
    "5\t465842684\t32927307\t437786778\t15720217\n",
    "...\t...\t...\t...\t...\t...\n",
    "2020\t31\t211898609\t20010578\t149372422\t61152261\n",
    "32\t250852555\t17701697\t217598950\t37091084\n",
    "33\t235474473\t18634659\t141752091\t71049854\n",
    "34\t208464758\t15908978\t132258021\t90804281\n",
    "35\t265909531\t16959794\t171999762\t88736115\n",
    "296 rows × 4 columns\n",
    "\n",
    "Step 9. Find all the volume traded in the year of 2015\n",
    " \n",
    "stock\tAAPL\tIBM\tMSFT\tTSLA\n",
    "year\t\t\t\t\n",
    "2015\t13064316775\t1105545521\t9057582311\t1086708380"
   ]
  }
 ],
 "metadata": {
  "language_info": {
   "name": "python"
  }
 },
 "nbformat": 4,
 "nbformat_minor": 2
}
